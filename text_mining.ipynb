{
 "cells": [
  {
   "cell_type": "markdown",
   "metadata": {},
   "source": [
    "Importy bibliotek"
   ]
  },
  {
   "cell_type": "code",
   "execution_count": 12,
   "metadata": {},
   "outputs": [],
   "source": [
    "import json\n",
    "import string\n",
    "import morfeusz2\n",
    "import itertools as it\n",
    "import operator as op \n",
    "from nltk.corpus import PlaintextCorpusReader\n",
    "from nltk.tokenize import word_tokenize\n"
   ]
  },
  {
   "cell_type": "markdown",
   "metadata": {},
   "source": [
    "1. Utworzenie korpusu dokumentów"
   ]
  },
  {
   "cell_type": "code",
   "execution_count": 13,
   "metadata": {},
   "outputs": [
    {
     "data": {
      "text/plain": [
       "['Harry Potter i Czara Ognia.txt',\n",
       " 'Harry Potter i Insygnia Smierci.txt',\n",
       " 'Harry Potter i Kamien Filozoficzny.txt',\n",
       " 'Harry Potter i Komnata Tajemnic.txt',\n",
       " 'Harry Potter i Ksiaze Polkrwi.txt',\n",
       " 'Harry Potter i Przeklete Dziecko.txt',\n",
       " 'Harry Potter i Wiezien Azkabanu.txt',\n",
       " 'Harry Potter i Zakon Feniksa.txt',\n",
       " 'Opowiesci z Narni. Kon i jego chlopiec.txt',\n",
       " 'Opowiesci z Narni. Ksiaze Kaspian.txt',\n",
       " 'Opowiesci z Narni. Lew, czarownica i stara szafa.txt',\n",
       " 'Opowiesci z Narni. Ostatnia bitwa.txt',\n",
       " 'Opowiesci z Narni. Podroz Wedrowca do Switu.txt',\n",
       " 'Opowiesci z Narni. Siostrzeniec Czarodzieja.txt',\n",
       " 'Opowiesci z Narni. Srebrne krzeslo.txt',\n",
       " 'Zmierzch.Ksiezyc w Nowiu.txt',\n",
       " 'Zmierzch.Przed Switem.txt',\n",
       " 'Zmierzch.Zacmienie.txt',\n",
       " 'Zmierzch.Zmierzch.txt',\n",
       " 'Zmierzch.Zycie i Smierc.txt',\n",
       " 'stopwords_pl.txt']"
      ]
     },
     "execution_count": 13,
     "metadata": {},
     "output_type": "execute_result"
    }
   ],
   "source": [
    "corpus_dir = \"./literatura\"\n",
    "corpus = PlaintextCorpusReader(corpus_dir, \".*\\.txt\")\n",
    "files = corpus.fileids()\n",
    "files"
   ]
  },
  {
   "cell_type": "markdown",
   "metadata": {},
   "source": [
    "2. Wstępne przetworzenie dokumentów"
   ]
  },
  {
   "cell_type": "code",
   "execution_count": 16,
   "metadata": {},
   "outputs": [
    {
     "ename": "KeyError",
     "evalue": "'Harry Potter i Czara Ognia.txt'",
     "output_type": "error",
     "traceback": [
      "\u001b[31m---------------------------------------------------------------------------\u001b[39m",
      "\u001b[31mKeyError\u001b[39m                                  Traceback (most recent call last)",
      "\u001b[36mCell\u001b[39m\u001b[36m \u001b[39m\u001b[32mIn[16]\u001b[39m\u001b[32m, line 3\u001b[39m\n\u001b[32m      1\u001b[39m documents = {}\n\u001b[32m      2\u001b[39m \u001b[38;5;28;01mfor\u001b[39;00m f \u001b[38;5;129;01min\u001b[39;00m files:\n\u001b[32m----> \u001b[39m\u001b[32m3\u001b[39m     \u001b[43mdocuments\u001b[49m\u001b[43m[\u001b[49m\u001b[43mf\u001b[49m\u001b[43m]\u001b[49m == corpus.raw[f]\n\u001b[32m      4\u001b[39m \u001b[38;5;28mprint\u001b[39m(json.dumps(documents, indent=\u001b[32m4\u001b[39m, ensure_ascii=\u001b[38;5;28;01mFalse\u001b[39;00m))\n",
      "\u001b[31mKeyError\u001b[39m: 'Harry Potter i Czara Ognia.txt'"
     ]
    }
   ],
   "source": [
    "documents = {}\n",
    "for f in files:\n",
    "    documents[f] == corpus.raw(f)\n",
    "print(json.dumps(documents, indent=4, ensure_ascii=False))"
   ]
  }
 ],
 "metadata": {
  "kernelspec": {
   "display_name": ".venv",
   "language": "python",
   "name": "python3"
  },
  "language_info": {
   "codemirror_mode": {
    "name": "ipython",
    "version": 3
   },
   "file_extension": ".py",
   "mimetype": "text/x-python",
   "name": "python",
   "nbconvert_exporter": "python",
   "pygments_lexer": "ipython3",
   "version": "3.11.4"
  }
 },
 "nbformat": 4,
 "nbformat_minor": 2
}
